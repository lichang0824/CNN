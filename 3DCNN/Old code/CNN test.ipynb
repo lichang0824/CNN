{
 "cells": [
  {
   "cell_type": "code",
   "execution_count": 1,
   "id": "6061aa55-251b-4364-b330-988f655c4917",
   "metadata": {
    "id": "6061aa55-251b-4364-b330-988f655c4917",
    "tags": []
   },
   "outputs": [],
   "source": [
    "import torch\n",
    "import torch.nn as nn\n",
    "from torch.utils.data import DataLoader\n",
    "from IPython.display import clear_output"
   ]
  },
  {
   "cell_type": "code",
   "execution_count": 2,
   "id": "75409c2a-7c7e-454a-b493-a8894b7469ce",
   "metadata": {
    "id": "75409c2a-7c7e-454a-b493-a8894b7469ce",
    "outputId": "124f3a64-fd41-43f6-8142-e776ca7c728a",
    "tags": []
   },
   "outputs": [
    {
     "name": "stdout",
     "output_type": "stream",
     "text": [
      "cuda:0\n"
     ]
    }
   ],
   "source": [
    "device = torch.device('cuda:0' if torch.cuda.is_available() else 'cpu')\n",
    "print(device)"
   ]
  },
  {
   "cell_type": "code",
   "execution_count": 3,
   "id": "81908f4c-1a6d-443f-aeeb-b44405989a51",
   "metadata": {
    "tags": []
   },
   "outputs": [],
   "source": [
    "logging = True"
   ]
  },
  {
   "cell_type": "code",
   "execution_count": 4,
   "id": "6923a256-f4d8-4be9-8cd5-4151db71895e",
   "metadata": {
    "id": "6923a256-f4d8-4be9-8cd5-4151db71895e",
    "outputId": "d4ecf0c7-c798-41ef-9d25-e184eaf4aaf7",
    "tags": []
   },
   "outputs": [
    {
     "name": "stderr",
     "output_type": "stream",
     "text": [
      "\u001b[34m\u001b[1mwandb\u001b[0m: Currently logged in as: \u001b[33mchangli_824\u001b[0m. Use \u001b[1m`wandb login --relogin`\u001b[0m to force relogin\n"
     ]
    }
   ],
   "source": [
    "if logging:\n",
    "    import wandb\n",
    "    wandb.login()"
   ]
  },
  {
   "cell_type": "code",
   "execution_count": 5,
   "id": "8d2623ad-319a-4cb5-89cf-f279814a831e",
   "metadata": {
    "id": "8d2623ad-319a-4cb5-89cf-f279814a831e",
    "tags": []
   },
   "outputs": [],
   "source": [
    "class ConvNet(nn.Module):\n",
    "    def __init__(self, kernel_size = 3, activation_fn = nn.ReLU()):\n",
    "        super().__init__()\n",
    "\n",
    "        self.max_pooling_2 = nn.MaxPool3d(kernel_size = 2)\n",
    "\n",
    "        self.up_sampling_2 = nn.Upsample(scale_factor = 2)\n",
    "\n",
    "        self.conv64_1_8 = nn.Sequential(\n",
    "            nn.Conv3d(in_channels = 1, out_channels = 8, kernel_size = kernel_size, padding = 'same'),\n",
    "            nn.BatchNorm3d(num_features = 8),\n",
    "            activation_fn\n",
    "        )\n",
    "\n",
    "        self.conv64_8_8 = nn.Sequential(\n",
    "            nn.Conv3d(in_channels = 8, out_channels = 8, kernel_size = kernel_size, padding = 'same'),\n",
    "            nn.BatchNorm3d(num_features = 8),\n",
    "            activation_fn\n",
    "        )\n",
    "\n",
    "        self.conv32_8_32 = nn.Sequential(\n",
    "            nn.Conv3d(in_channels = 8, out_channels = 32, kernel_size = kernel_size, padding = 'same'),\n",
    "            nn.BatchNorm3d(num_features = 32),\n",
    "            activation_fn\n",
    "        )\n",
    "\n",
    "        self.conv32_32_32 = nn.Sequential(\n",
    "            nn.Conv3d(in_channels = 32, out_channels = 32, kernel_size = kernel_size, padding = 'same'),\n",
    "            nn.BatchNorm3d(num_features = 32),\n",
    "            activation_fn\n",
    "        )\n",
    "\n",
    "        self.conv16_32_128 = nn.Sequential(\n",
    "            nn.Conv3d(in_channels = 32, out_channels = 128, kernel_size = kernel_size, padding = 'same'),\n",
    "            nn.BatchNorm3d(num_features = 128),\n",
    "            activation_fn\n",
    "        )\n",
    "\n",
    "        self.conv16_128_128 = nn.Sequential(\n",
    "            nn.Conv3d(in_channels = 128, out_channels = 128, kernel_size = kernel_size, padding = 'same'),\n",
    "            nn.BatchNorm3d(num_features = 128),\n",
    "            activation_fn\n",
    "        )\n",
    "\n",
    "        self.conv8_128_256 = nn.Sequential(\n",
    "            nn.Conv3d(in_channels = 128, out_channels = 256, kernel_size = kernel_size, padding = 'same'),\n",
    "            nn.BatchNorm3d(num_features = 256),\n",
    "            activation_fn\n",
    "        )\n",
    "\n",
    "        self.conv8_256_256 = nn.Sequential(\n",
    "            nn.Conv3d(in_channels = 256, out_channels = 256, kernel_size = kernel_size, padding = 'same'),\n",
    "            nn.BatchNorm3d(num_features = 256),\n",
    "            activation_fn\n",
    "        )\n",
    "\n",
    "        self.conv16_384_128 = nn.Sequential(\n",
    "            nn.Conv3d(in_channels = 384, out_channels = 128, kernel_size = kernel_size, padding = 'same'),\n",
    "            nn.BatchNorm3d(num_features = 128),\n",
    "            activation_fn\n",
    "        )\n",
    "\n",
    "        self.conv32_160_32 = nn.Sequential(\n",
    "            nn.Conv3d(in_channels = 160, out_channels = 32, kernel_size = kernel_size, padding = 'same'),\n",
    "            nn.BatchNorm3d(num_features = 32),\n",
    "            activation_fn\n",
    "        )\n",
    "\n",
    "        self.conv64_40_8 = nn.Sequential(\n",
    "            nn.Conv3d(in_channels = 40, out_channels = 8, kernel_size = kernel_size, padding = 'same'),\n",
    "            nn.BatchNorm3d(num_features = 8),\n",
    "            activation_fn\n",
    "        )\n",
    "\n",
    "        self.conv64_8_1 = nn.Sequential(\n",
    "            nn.Conv3d(in_channels = 8, out_channels = 1, kernel_size = kernel_size, padding = 'same'),\n",
    "            activation_fn\n",
    "        )\n",
    "\n",
    "    def forward(self, x):\n",
    "        x = self.conv64_1_8(x)\n",
    "        x = self.conv64_8_8(x)\n",
    "        feature_map_64 = x.detach()\n",
    "        x = self.max_pooling_2(x)\n",
    "        x = self.conv32_8_32(x)\n",
    "        x = self.conv32_32_32(x)\n",
    "        feature_map_32 = x.detach()\n",
    "        x = self.max_pooling_2(x)\n",
    "        x = self.conv16_32_128(x)\n",
    "        x = self.conv16_128_128(x)\n",
    "        feature_map_16 = x.detach()\n",
    "        x = self.max_pooling_2(x)\n",
    "        x = self.conv8_128_256(x)\n",
    "        x = self.conv8_256_256(x)\n",
    "        x = self.up_sampling_2(x)\n",
    "        x = torch.cat((feature_map_16, x), dim = 1)\n",
    "        x = self.conv16_384_128(x)\n",
    "        x = self.conv16_128_128(x)\n",
    "        x = self.up_sampling_2(x)\n",
    "        x = torch.cat((feature_map_32, x), dim = 1)\n",
    "        x = self.conv32_160_32(x)\n",
    "        x = self.conv32_32_32(x)\n",
    "        x = self.up_sampling_2(x)\n",
    "        x = torch.cat((feature_map_64, x), dim = 1)\n",
    "        x = self.conv64_40_8(x)\n",
    "        x = self.conv64_8_1(x)\n",
    "        return x"
   ]
  },
  {
   "cell_type": "code",
   "execution_count": 6,
   "id": "af6093e9-59db-4985-91a0-cf5d2bb9b3e7",
   "metadata": {
    "id": "af6093e9-59db-4985-91a0-cf5d2bb9b3e7",
    "tags": []
   },
   "outputs": [],
   "source": [
    "def train(epochs, model, training_loader, lr):\n",
    "    loss_fn = nn.MSELoss()\n",
    "    optimizer = torch.optim.SGD(model.parameters(), lr = lr, momentum = 0.9)\n",
    "    for epoch in range(epochs):\n",
    "        running_loss = 0.0\n",
    "        for i, data in enumerate(training_loader):\n",
    "            inputs, labels = data\n",
    "\n",
    "            # Zero the gradients\n",
    "            optimizer.zero_grad()\n",
    "\n",
    "            # Make predictions\n",
    "            outputs = model(inputs)\n",
    "\n",
    "            # Compute loss and its gradients\n",
    "            loss = loss_fn(outputs, labels)\n",
    "            loss.backward()\n",
    "\n",
    "            # Adjust learning weights\n",
    "            optimizer.step()\n",
    "\n",
    "            running_loss += loss.item()\n",
    "        print(f'Loss for epoch {epoch}: {running_loss}')"
   ]
  },
  {
   "cell_type": "code",
   "execution_count": 7,
   "id": "df3c9fa6-54c1-426c-9311-fd4c8f5dd59c",
   "metadata": {
    "tags": []
   },
   "outputs": [],
   "source": [
    "def evaluate_loss(model, data_loader):\n",
    "    loss_fn = nn.MSELoss()\n",
    "    running_loss = 0.0\n",
    "    for i, data in enumerate(data_loader):\n",
    "        inputs, labels = data\n",
    "        outputs = model(inputs)\n",
    "        loss = loss_fn(outputs, labels)\n",
    "        running_loss += loss.item()\n",
    "    return running_loss"
   ]
  },
  {
   "cell_type": "code",
   "execution_count": 8,
   "id": "79ff9159-6663-4950-948f-375de80052aa",
   "metadata": {
    "id": "79ff9159-6663-4950-948f-375de80052aa",
    "tags": []
   },
   "outputs": [],
   "source": [
    "X = torch.rand((1280, 1, 64, 64, 64), device = device)\n",
    "y = torch.rand((1280, 1, 64, 64, 64), device = device)"
   ]
  },
  {
   "cell_type": "code",
   "execution_count": 9,
   "id": "31af5dbe-0157-487c-8b92-5edcfdbe2b44",
   "metadata": {
    "id": "31af5dbe-0157-487c-8b92-5edcfdbe2b44",
    "tags": []
   },
   "outputs": [],
   "source": [
    "kernel_sizes = [3, 4, 5]\n",
    "activation_fns = [nn.ReLU(), nn.Sigmoid()]\n",
    "epochs_choices = [5, 10, 20]\n",
    "learning_rates = [1e-4, 1e-3, 1e-2]"
   ]
  },
  {
   "cell_type": "code",
   "execution_count": 10,
   "id": "d7e0d3cd-0c62-45b0-9ec4-21590d6498a4",
   "metadata": {
    "colab": {
     "referenced_widgets": [
      "aa5e05f426b84ff582011ad5e63f5c27",
      "2200cd201b184c9586681227a2b59a3c",
      "7b76cf9ad635491c8ba0fc4bf206f873",
      "2541676815854fc597ec178c6b14d669",
      "806129b375884a689b0a0d6525fa27a1",
      "e6dcfea8aede436e934efe596a776ac6",
      "b9b8d8a1ff2b433e84ad0a12e25de317",
      "ae9ece6f76844be5a9406b174f8dd5e7",
      "7637365977ec4243975cde8b1c371a9d",
      "7a2723f098ac4c5982790aba48d02a9f",
      "af0922615c004a60859e4b78f6604895",
      "75d5f3d3e06d4f6fb1d180e719921f8d",
      "5e7bfa8b317047899bdf8991b98ceb1e",
      "b3e34edec12f4846b7a6175e5951e350",
      "a56e2a313e7d4a0b8fffff82f99bed89",
      "022f9a4b7e594577b8e7cacc10a86feb",
      "88d9286afea94a47b3430f33260fe850",
      "276b6fa1a66740d7966b0f247bbc3e7f",
      "9315e372229b4f4e8f1c1f355575951b",
      "baa17275a1f24e2cabf411e33e15b54e",
      "97bcf789381745a2ab501a056f984e7c",
      "1476c4b53d9b4cfc85e90eed15c3fba3",
      "549c670e91b048dca4fb59fcdc68f110",
      "264c0b6b2f7346bc9e5aa553283d2d0d",
      "b1da72c17d6147218f36c5f755c0db6c",
      "81bf121d8a204056b1277e1cc8706936",
      "e31efd3d47924428a38fe0ef075da3cd",
      "eae646fef863475294d815af0f590b64",
      "d849888ece5a4ea3b5f157eac08bae4a",
      "e156b06e09144ace9b04c212b1c66ab5",
      "6a47a7a0c13548ff92fa1cdb3c50a439",
      "9496fe1859af4a85a8098c6829af0636",
      "87b2a6d0e1744095a70fa874611ff54f",
      "befc54330af44c98a2dd0a6a14ccf14d",
      "6f75bf872b4b4a71bd9c60b464652ac5",
      "149ee39da2bd48228f8089c44d1cf494",
      "39d2231fdb38409099cb1e4a287791f1",
      "8a7084c56efe4fa8bd634fde2634b78c",
      "b0c1917831804a4b899636a1c2a01150",
      "11a0ae0f36624a67b03f75b3837571e6",
      "d721b951cab949a698861c8eec43d638",
      "ec40537644e647cda95ee2d985e23dd8",
      "4c87c6df3efc41969cccc9ac6c22b013",
      "65ab2c5fe5d147aeacd8d5c3c9707cb6",
      "cd6ec7d4760f44de9f0aa398b25cc5c1",
      "a8098a96d66442e6b839bb6ba16d0fe5",
      "cd080521360b458b89bd2ba32f1b2e9d",
      "35ec378983df45acb812cdbdad736cfd",
      "b60021d827d64886a07f14ec44617c7b",
      "d7d6e2a2ea6f4a6bb37df8a8a2366d5f",
      "57113d3590db4e16a207947ae52a84c2",
      "31bd488821004f6980b6c90191ffe13a",
      "2e1a28065a004bec8b761a838ed61c8f",
      "c8129fb32e55480fa72d555e18c460f5",
      "a7b9a7cf7d3e480fbb6655b28c343798",
      "4911290e50b741f7b971785553008a71",
      "19e08163aa4a431c94ab67d01788a170",
      "91907f4ec5e545569d1d84ba67c2a028",
      "59c8ab84d6c5454497b1383d8cfade1f",
      "df2a8b3d283846e29b852b556bbd0a85",
      "2ae362f69f254df9a64c89eb7a22e224",
      "a175e1884f34466082594d32236a8abe",
      "691f57f99a96485c8206ffabca4ed7d0",
      "d94299cd8f0c4a1aa2828048f6cf179e",
      "78a3bbf72c7c43ed9ac0ef2090899763",
      "24e6f2d049cd40c7849fb5b3d360ab7d",
      "e2c73a640b164280bfa5af527989a02a",
      "d5fa35de1fc748d4af9b9c4b97d49813",
      "47f51de5e47a4f57b0707e7c00f90401",
      "77aee607f219414d896ac1f22b0b9546",
      "90a9bac8c47b4e888b62279406290d4a",
      "1dabb6ab0d3f4b09ae80d846da3b1937",
      "ca69c7754ebf49169a5f3fbf548ad70e",
      "392327d4e5f84301ae56347508f54908",
      "e6dd4e35cb2b4319a52da6bd8c04fde0",
      "abb95ffdacf6406f86d72c4fcf3fd3b3",
      "c3eeb1ad6784468dbac428e0dab6a455",
      "7299240a6aea4d0f838b81a2a8adbef8",
      "8dbdb322fffd46b3b4d3adfa750526d6",
      "2b324481f1ca4a93b3bb939e5abf7f63",
      "0639e124139c4c38ac07f7678895ac90",
      "c0c67c8d40dc437185fed4830a700127",
      "fd2cb052b0784c08ba2c5e0f86a1d8f8",
      "d6cacbbb510f4b11a9a1c2d0a49f9cae",
      "310f472840b64311b69add5afba83a91",
      "cf631579cbe54c28be84e1fcf53c6e22",
      "b21dfc1bdf654f0d99dc21abc0efc532",
      "da91e7f135c542e3a0a689bbb3b377cf",
      "c4210bf839a345c58b1aee5ae0898b5b",
      "989bfffe5f8c456293080e980d8cb621",
      "4530003432aa41a097ef566ae75d4ce0",
      "a9dc4b27f3d648d9b70d97b25a95fd72",
      "48c14798ca96403e86893bc2ff3ac693",
      "3197d92d98be44eeb49d6d59dc3c6026",
      "beea880fda81458e812ff7b728e4f992",
      "e1e19aa2cd24411b9baaa56958770754",
      "cc469020cf3144de8b0aad85a37812ab",
      "4c15e7ea40094bffa778e064d5e8ee02"
     ]
    },
    "id": "d7e0d3cd-0c62-45b0-9ec4-21590d6498a4",
    "outputId": "a0f892f4-d0cb-4163-a9d8-7a5d58207429",
    "tags": []
   },
   "outputs": [
    {
     "data": {
      "application/vnd.jupyter.widget-view+json": {
       "model_id": "571514d55b484cd38fcda2dd99e2776c",
       "version_major": 2,
       "version_minor": 0
      },
      "text/plain": [
       "VBox(children=(Label(value='Waiting for wandb.init()...\\r'), FloatProgress(value=0.011111111111111112, max=1.0…"
      ]
     },
     "metadata": {},
     "output_type": "display_data"
    },
    {
     "data": {
      "text/html": [
       "Tracking run with wandb version 0.15.12"
      ],
      "text/plain": [
       "<IPython.core.display.HTML object>"
      ]
     },
     "metadata": {},
     "output_type": "display_data"
    },
    {
     "data": {
      "text/html": [
       "Run data is saved locally in <code>C:\\Users\\silly bb\\Desktop\\CNN\\wandb\\run-20231101_070801-yj1moowi</code>"
      ],
      "text/plain": [
       "<IPython.core.display.HTML object>"
      ]
     },
     "metadata": {},
     "output_type": "display_data"
    },
    {
     "data": {
      "text/html": [
       "Syncing run <strong><a href='https://wandb.ai/changli_824/CNN_first_test/runs/yj1moowi' target=\"_blank\">{'kernel_size': 5, 'activation_fn': Sigmoid(), 'epochs': 20, 'learning_rate': 0.01}</a></strong> to <a href='https://wandb.ai/changli_824/CNN_first_test' target=\"_blank\">Weights & Biases</a> (<a href='https://wandb.me/run' target=\"_blank\">docs</a>)<br/>"
      ],
      "text/plain": [
       "<IPython.core.display.HTML object>"
      ]
     },
     "metadata": {},
     "output_type": "display_data"
    },
    {
     "data": {
      "text/html": [
       " View project at <a href='https://wandb.ai/changli_824/CNN_first_test' target=\"_blank\">https://wandb.ai/changli_824/CNN_first_test</a>"
      ],
      "text/plain": [
       "<IPython.core.display.HTML object>"
      ]
     },
     "metadata": {},
     "output_type": "display_data"
    },
    {
     "data": {
      "text/html": [
       " View run at <a href='https://wandb.ai/changli_824/CNN_first_test/runs/yj1moowi' target=\"_blank\">https://wandb.ai/changli_824/CNN_first_test/runs/yj1moowi</a>"
      ],
      "text/plain": [
       "<IPython.core.display.HTML object>"
      ]
     },
     "metadata": {},
     "output_type": "display_data"
    },
    {
     "name": "stdout",
     "output_type": "stream",
     "text": [
      "Loss for epoch 0: 13.362125054001808\n",
      "Loss for epoch 1: 13.340454988181591\n",
      "Loss for epoch 2: 13.338420696556568\n",
      "Loss for epoch 3: 13.33737763017416\n",
      "Loss for epoch 4: 13.336708277463913\n",
      "Loss for epoch 5: 13.336253270506859\n",
      "Loss for epoch 6: 13.335901737213135\n",
      "Loss for epoch 7: 13.335637055337429\n",
      "Loss for epoch 8: 13.335419490933418\n",
      "Loss for epoch 9: 13.33523490279913\n",
      "Loss for epoch 10: 13.335081852972507\n",
      "Loss for epoch 11: 13.334949217736721\n",
      "Loss for epoch 12: 13.334832720458508\n",
      "Loss for epoch 13: 13.334734372794628\n",
      "Loss for epoch 14: 13.334646098315716\n",
      "Loss for epoch 15: 13.334568418562412\n",
      "Loss for epoch 16: 13.33449475467205\n",
      "Loss for epoch 17: 13.334428615868092\n",
      "Loss for epoch 18: 13.334374837577343\n",
      "Loss for epoch 19: 13.334315426647663\n",
      "{'kernel_size': 5, 'activation_fn': 'Sigmoid()', 'epochs': 20, 'learning_rate': 0.01}: 13.334305845201015\n"
     ]
    },
    {
     "data": {
      "text/html": [
       "Waiting for W&B process to finish... <strong style=\"color:green\">(success).</strong>"
      ],
      "text/plain": [
       "<IPython.core.display.HTML object>"
      ]
     },
     "metadata": {},
     "output_type": "display_data"
    },
    {
     "data": {
      "application/vnd.jupyter.widget-view+json": {
       "model_id": "228e87cec96a40c1a4fd4131cc3c0721",
       "version_major": 2,
       "version_minor": 0
      },
      "text/plain": [
       "VBox(children=(Label(value='0.001 MB of 0.001 MB uploaded (0.000 MB deduped)\\r'), FloatProgress(value=1.0, max…"
      ]
     },
     "metadata": {},
     "output_type": "display_data"
    },
    {
     "data": {
      "text/html": [
       "<style>\n",
       "    table.wandb td:nth-child(1) { padding: 0 10px; text-align: left ; width: auto;} td:nth-child(2) {text-align: left ; width: 100%}\n",
       "    .wandb-row { display: flex; flex-direction: row; flex-wrap: wrap; justify-content: flex-start; width: 100% }\n",
       "    .wandb-col { display: flex; flex-direction: column; flex-basis: 100%; flex: 1; padding: 10px; }\n",
       "    </style>\n",
       "<div class=\"wandb-row\"><div class=\"wandb-col\"><h3>Run history:</h3><br/><table class=\"wandb\"><tr><td>training_loss</td><td>▁</td></tr></table><br/></div><div class=\"wandb-col\"><h3>Run summary:</h3><br/><table class=\"wandb\"><tr><td>training_loss</td><td>13.33431</td></tr></table><br/></div></div>"
      ],
      "text/plain": [
       "<IPython.core.display.HTML object>"
      ]
     },
     "metadata": {},
     "output_type": "display_data"
    },
    {
     "data": {
      "text/html": [
       " View run <strong style=\"color:#cdcd00\">{'kernel_size': 5, 'activation_fn': Sigmoid(), 'epochs': 20, 'learning_rate': 0.01}</strong> at: <a href='https://wandb.ai/changli_824/CNN_first_test/runs/yj1moowi' target=\"_blank\">https://wandb.ai/changli_824/CNN_first_test/runs/yj1moowi</a><br/>Synced 6 W&B file(s), 0 media file(s), 0 artifact file(s) and 0 other file(s)"
      ],
      "text/plain": [
       "<IPython.core.display.HTML object>"
      ]
     },
     "metadata": {},
     "output_type": "display_data"
    },
    {
     "data": {
      "text/html": [
       "Find logs at: <code>.\\wandb\\run-20231101_070801-yj1moowi\\logs</code>"
      ],
      "text/plain": [
       "<IPython.core.display.HTML object>"
      ]
     },
     "metadata": {},
     "output_type": "display_data"
    }
   ],
   "source": [
    "for kernel_size in kernel_sizes:\n",
    "    for activation_fn in activation_fns:\n",
    "        for epochs in epochs_choices:\n",
    "            for learning_rate in learning_rates:\n",
    "                clear_output(wait=True)\n",
    "                \n",
    "                config = {\n",
    "                    'kernel_size': kernel_size,\n",
    "                    'activation_fn': activation_fn,\n",
    "                    'epochs': epochs,\n",
    "                    'learning_rate': learning_rate\n",
    "                }\n",
    "\n",
    "                if logging:\n",
    "                    # initialize a wandb run\n",
    "                    wandb.init(\n",
    "                        project = 'CNN_first_test',\n",
    "                        config = config,\n",
    "                        name = str(config)\n",
    "                    )\n",
    "\n",
    "                    # copy the config\n",
    "                    config = wandb.config\n",
    "\n",
    "                # get training loader\n",
    "                training_loader = DataLoader(list(zip(X, y)), batch_size = 8, shuffle = True)\n",
    "\n",
    "                # initialize model\n",
    "                model = ConvNet(kernel_size = kernel_size, activation_fn = activation_fn).to(device)\n",
    "\n",
    "                train(epochs, model, training_loader, learning_rate)\n",
    "                \n",
    "                loss = evaluate_loss(model, training_loader)\n",
    "\n",
    "                print(f'{config}: {loss}')\n",
    "\n",
    "                metrics = {\n",
    "                    'training_loss': loss\n",
    "                }\n",
    "                \n",
    "                if logging:\n",
    "                    wandb.log(metrics)\n",
    "\n",
    "                    wandb.finish()"
   ]
  },
  {
   "cell_type": "markdown",
   "id": "194b0ce2-ff26-4040-8e72-92f769a3c39c",
   "metadata": {
    "id": "194b0ce2-ff26-4040-8e72-92f769a3c39c"
   },
   "source": [
    "Next Steps:<br>\n",
    "Automate hyperparameter tuning, potentially with weights and biases<br>\n",
    "Understand and figure out ways to limit GPU memory usage<br>\n",
    "Try binary/short inputs<br>\n",
    "Replace dummy data with real data<br>\n",
    "Run with google drive data, get github data set up"
   ]
  }
 ],
 "metadata": {
  "colab": {
   "provenance": []
  },
  "kernelspec": {
   "display_name": "Python 3 (ipykernel)",
   "language": "python",
   "name": "python3"
  },
  "language_info": {
   "codemirror_mode": {
    "name": "ipython",
    "version": 3
   },
   "file_extension": ".py",
   "mimetype": "text/x-python",
   "name": "python",
   "nbconvert_exporter": "python",
   "pygments_lexer": "ipython3",
   "version": "3.9.18"
  }
 },
 "nbformat": 4,
 "nbformat_minor": 5
}
