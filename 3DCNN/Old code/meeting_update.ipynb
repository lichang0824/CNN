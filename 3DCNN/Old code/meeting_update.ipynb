{
 "cells": [
  {
   "cell_type": "markdown",
   "id": "ec49dc75-f7f4-4f5e-b818-24516816e729",
   "metadata": {},
   "source": [
    "Remove code for downsampling, not needed"
   ]
  },
  {
   "cell_type": "markdown",
   "id": "d3e168c2-4ea9-4365-97d2-d544e6cdcce4",
   "metadata": {},
   "source": [
    "Add this after \"define network\""
   ]
  },
  {
   "cell_type": "code",
   "execution_count": null,
   "id": "eaf5ddb6-968f-4089-af3e-48c7f5a857a7",
   "metadata": {},
   "outputs": [],
   "source": [
    "# Code in this cell is from https://stackoverflow.com/questions/49201236/check-the-total-number-of-parameters-in-a-pytorch-model\n",
    "from prettytable import PrettyTable\n",
    "\n",
    "def count_parameters(model):\n",
    "    table = PrettyTable([\"Modules\", \"Parameters\"])\n",
    "    total_params = 0\n",
    "    for name, parameter in model.named_parameters():\n",
    "        if not parameter.requires_grad:\n",
    "            continue\n",
    "        params = parameter.numel()\n",
    "        table.add_row([name, params])\n",
    "        total_params += params\n",
    "    print(table)\n",
    "    print(f\"Total Trainable Params: {total_params}\")\n",
    "    return total_params"
   ]
  },
  {
   "cell_type": "markdown",
   "id": "a1ed26a5-91ee-412b-b10b-a228940794d3",
   "metadata": {},
   "source": [
    "new version of CNN definition"
   ]
  },
  {
   "cell_type": "code",
   "execution_count": null,
   "id": "49d983aa-6ae2-4899-b305-62641f3bf398",
   "metadata": {},
   "outputs": [],
   "source": [
    "class ConvNetScalarLabel(nn.Module):\n",
    "    def __init__(self, kernel_size = 3, activation_fn = nn.ReLU()):\n",
    "        super().__init__()\n",
    "\n",
    "        self.layers = nn.ModuleList()\n",
    "        self.layers.append(self.create_conv_set(1, 2, kernel_size, activation_fn))\n",
    "        self.layers.append(self.create_conv_set(2, 2, kernel_size, activation_fn))\n",
    "        self.layers.append(nn.MaxPool3d(kernel_size = 2))\n",
    "        self.layers.append(self.create_conv_set(2, 4, kernel_size, activation_fn))\n",
    "        self.layers.append(self.create_conv_set(4, 4, kernel_size, activation_fn))\n",
    "        self.layers.append(nn.MaxPool3d(kernel_size = 2))\n",
    "        self.layers.append(self.create_conv_set(4, 8, kernel_size, activation_fn))\n",
    "        self.layers.append(self.create_conv_set(8, 8, kernel_size, activation_fn))\n",
    "        self.layers.append(nn.MaxPool3d(kernel_size = 2))\n",
    "        self.layers.append(self.create_conv_set(8, 32, kernel_size, activation_fn))\n",
    "        self.layers.append(self.create_conv_set(32, 32, kernel_size, activation_fn))\n",
    "        self.layers.append(nn.MaxPool3d(kernel_size = 2))\n",
    "        self.layers.append(self.create_conv_set(32, 128, kernel_size, activation_fn))\n",
    "        self.layers.append(self.create_conv_set(128, 128, kernel_size, activation_fn))\n",
    "        self.layers.append(nn.MaxPool3d(kernel_size = 2))\n",
    "        self.layers.append(self.create_conv_set(128, 256, kernel_size, activation_fn))\n",
    "        self.layers.append(self.create_conv_set(256, 256, kernel_size, activation_fn))\n",
    "        self.layers.append(nn.MaxPool3d(kernel_size = 8))\n",
    "\n",
    "        self.linear_1 = nn.Linear(256, 16)\n",
    "        self.linear_2 = nn.Linear(16, 1)\n",
    "\n",
    "    def create_conv_set(self, in_channels, out_channels, kernel_size, activation_fn):\n",
    "        return nn.Sequential(\n",
    "            nn.Conv3d(in_channels = in_channels, out_channels = out_channels, kernel_size = kernel_size, padding = 'same'),\n",
    "            nn.BatchNorm3d(num_features = out_channels),\n",
    "            activation_fn\n",
    "        )\n",
    "\n",
    "    def forward(self, x):\n",
    "        for layer in self.layers:\n",
    "            x = layer(x)\n",
    "        x = torch.squeeze(x)\n",
    "        x = self.linear_1(x)\n",
    "        x = self.linear_2(x)\n",
    "        return torch.squeeze(x)"
   ]
  },
  {
   "cell_type": "markdown",
   "id": "d8f6ab82-70cd-4c8d-8fd5-75a3af1c9870",
   "metadata": {},
   "source": [
    "Separate out network definitions to new file"
   ]
  }
 ],
 "metadata": {
  "kernelspec": {
   "display_name": "Python 3 (ipykernel)",
   "language": "python",
   "name": "python3"
  },
  "language_info": {
   "codemirror_mode": {
    "name": "ipython",
    "version": 3
   },
   "file_extension": ".py",
   "mimetype": "text/x-python",
   "name": "python",
   "nbconvert_exporter": "python",
   "pygments_lexer": "ipython3",
   "version": "3.8.12"
  }
 },
 "nbformat": 4,
 "nbformat_minor": 5
}
