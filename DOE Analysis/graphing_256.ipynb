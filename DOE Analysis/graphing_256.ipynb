{
 "cells": [
  {
   "cell_type": "code",
   "execution_count": 1,
   "id": "3718fd83-1d20-4b69-96cd-711cb9447209",
   "metadata": {},
   "outputs": [],
   "source": [
    "import numpy as np\n",
    "import pandas as pd\n",
    "import matplotlib.pyplot as plt\n",
    "df = pd.read_csv('wandb_256.csv')"
   ]
  },
  {
   "cell_type": "code",
   "execution_count": 2,
   "id": "907f688d-6983-410c-9817-7aadfbe35ebc",
   "metadata": {},
   "outputs": [],
   "source": [
    "one = df[(df['architecture'] == '3DCNN_256_stride1_new') & (df['training_set'] == 1000)]"
   ]
  },
  {
   "cell_type": "code",
   "execution_count": 3,
   "id": "65a36571-3ec4-494d-bdba-dcf900fa82c0",
   "metadata": {},
   "outputs": [],
   "source": [
    "ten = df[(df['architecture'] == '3DCNN_256_stride1_new') & (df['training_set'] == 10000)]"
   ]
  },
  {
   "cell_type": "code",
   "execution_count": 4,
   "id": "21910140-a73c-40c9-8c16-081039752c73",
   "metadata": {},
   "outputs": [],
   "source": [
    "fifty = df[(df['architecture'] == '3DCNN_256_stride1_new') & (df['training_set'] == 50000)]"
   ]
  },
  {
   "cell_type": "code",
   "execution_count": 5,
   "id": "eb77de62-f651-4cb1-9302-8d732aa46d3a",
   "metadata": {},
   "outputs": [],
   "source": [
    "one = one[['Name', 'validation_loss', 'activation_fn', 'kernel_size', 'epochs_choice', 'learning_rate']]"
   ]
  },
  {
   "cell_type": "code",
   "execution_count": 6,
   "id": "5311c96e-5b17-4d9c-81c7-5e8fe6c0acac",
   "metadata": {},
   "outputs": [],
   "source": [
    "ten = ten[['Name', 'validation_loss', 'activation_fn', 'kernel_size', 'epochs_choice', 'learning_rate']]"
   ]
  },
  {
   "cell_type": "code",
   "execution_count": 7,
   "id": "8f6536d5-b8de-4347-b318-0a499be02a71",
   "metadata": {},
   "outputs": [],
   "source": [
    "fifty = fifty[['Name', 'validation_loss', 'activation_fn', 'kernel_size', 'epochs_choice', 'learning_rate']]"
   ]
  },
  {
   "cell_type": "code",
   "execution_count": 8,
   "id": "67642ad6-26be-4152-bae4-32c3a2791ef0",
   "metadata": {},
   "outputs": [
    {
     "data": {
      "text/plain": [
       "kernel_size\n",
       "5    18\n",
       "3    18\n",
       "Name: count, dtype: int64"
      ]
     },
     "execution_count": 8,
     "metadata": {},
     "output_type": "execute_result"
    }
   ],
   "source": [
    "ten['kernel_size'].value_counts()"
   ]
  },
  {
   "cell_type": "code",
   "execution_count": 9,
   "id": "0db03e78-be5f-4584-bf87-3f7cbb77fb7d",
   "metadata": {},
   "outputs": [
    {
     "data": {
      "text/plain": [
       "activation_fn\n",
       "ReLU       18\n",
       "Sigmoid    18\n",
       "Name: count, dtype: int64"
      ]
     },
     "execution_count": 9,
     "metadata": {},
     "output_type": "execute_result"
    }
   ],
   "source": [
    "ten['activation_fn'].value_counts()"
   ]
  },
  {
   "cell_type": "code",
   "execution_count": 10,
   "id": "07d4aa21-95d5-456d-af1d-f2e10c4de834",
   "metadata": {},
   "outputs": [
    {
     "data": {
      "text/plain": [
       "epochs_choice\n",
       "15    12\n",
       "10    12\n",
       "5     12\n",
       "Name: count, dtype: int64"
      ]
     },
     "execution_count": 10,
     "metadata": {},
     "output_type": "execute_result"
    }
   ],
   "source": [
    "ten['epochs_choice'].value_counts()"
   ]
  },
  {
   "cell_type": "code",
   "execution_count": 11,
   "id": "a558e31f-0c9b-4706-891d-8e1fca17d541",
   "metadata": {},
   "outputs": [
    {
     "data": {
      "text/plain": [
       "learning_rate\n",
       "0.00010    12\n",
       "0.00100    12\n",
       "0.00001    12\n",
       "Name: count, dtype: int64"
      ]
     },
     "execution_count": 11,
     "metadata": {},
     "output_type": "execute_result"
    }
   ],
   "source": [
    "ten['learning_rate'].value_counts()"
   ]
  },
  {
   "cell_type": "code",
   "execution_count": 12,
   "id": "58f53ac0-571c-43ed-b55b-dba1b0b061f2",
   "metadata": {},
   "outputs": [],
   "source": [
    "one_agg = one.groupby(by = one.columns.drop('validation_loss').to_list()).agg([\"mean\", \"median\", \"var\", np.std]).reset_index()"
   ]
  },
  {
   "cell_type": "code",
   "execution_count": 13,
   "id": "79757c4d-a5e1-4992-8696-dcc6c2cf02a5",
   "metadata": {},
   "outputs": [],
   "source": [
    "ten_agg = ten.groupby(by = ten.columns.drop('validation_loss').to_list()).agg([\"mean\", \"median\", \"var\", np.std]).reset_index()"
   ]
  },
  {
   "cell_type": "code",
   "execution_count": 14,
   "id": "a6e70d35-6321-4821-9637-6689935674b6",
   "metadata": {},
   "outputs": [],
   "source": [
    "fifty_agg = fifty.groupby(by = fifty.columns.drop('validation_loss').to_list()).agg([\"mean\", \"median\", \"var\", np.std]).reset_index()"
   ]
  },
  {
   "cell_type": "code",
   "execution_count": 15,
   "id": "ee5eb771-d9b1-4c86-afdb-d90f68c6fbf9",
   "metadata": {},
   "outputs": [],
   "source": [
    "validation_loss_1 = pd.Series(dtype = float)\n",
    "validation_loss_10 = pd.Series(dtype = float)\n",
    "validation_loss_50 = pd.Series(dtype = float)"
   ]
  },
  {
   "cell_type": "code",
   "execution_count": 16,
   "id": "71fad88c-e8b2-4284-ae15-bbdbd1ac7b2f",
   "metadata": {},
   "outputs": [],
   "source": [
    "for kernel_size in [3, 5]:\n",
    "    for epochs_choice in [5, 10, 15]:\n",
    "        for learning_rate in [1e-3, 1e-4, 1e-5]:\n",
    "            for activation_fn in ['ReLU', 'Sigmoid']:\n",
    "                run_name = f'3DCNN_1000_{kernel_size}_{activation_fn}_{epochs_choice}_{learning_rate}_4'\n",
    "                validation_loss_1.loc[run_name] = one_agg[one_agg['Name'] == run_name]['validation_loss']['mean'].values[0]\n",
    "                run_name = f'3DCNN_10000_{kernel_size}_{activation_fn}_{epochs_choice}_{learning_rate}_4'\n",
    "                validation_loss_10.loc[run_name] = ten_agg[ten_agg['Name'] == run_name]['validation_loss']['mean'].values[0]\n",
    "                run_name = f'3DCNN_50000_{kernel_size}_{activation_fn}_{epochs_choice}_{learning_rate}_4'\n",
    "                validation_loss_50.loc[run_name] = fifty_agg[fifty_agg['Name'] == run_name]['validation_loss']['mean'].values[0]"
   ]
  },
  {
   "cell_type": "code",
   "execution_count": 17,
   "id": "bd197ed5-0dd9-48f5-b2ea-5bd846c4fa9f",
   "metadata": {},
   "outputs": [],
   "source": [
    "comparison = pd.concat({'1k': pd.Series(validation_loss_1.values), '10k': pd.Series(validation_loss_10.values), '50k': pd.Series(validation_loss_50.values)}, axis = 1)\n",
    "comparison['Name'] = validation_loss_1.index\n",
    "comparison.sort_values(by = '1k', inplace = True)"
   ]
  },
  {
   "cell_type": "code",
   "execution_count": 18,
   "id": "f8705e7e-b974-43fa-b4fb-3fec558df808",
   "metadata": {},
   "outputs": [
    {
     "data": {
      "text/html": [
       "<div>\n",
       "<style scoped>\n",
       "    .dataframe tbody tr th:only-of-type {\n",
       "        vertical-align: middle;\n",
       "    }\n",
       "\n",
       "    .dataframe tbody tr th {\n",
       "        vertical-align: top;\n",
       "    }\n",
       "\n",
       "    .dataframe thead th {\n",
       "        text-align: right;\n",
       "    }\n",
       "</style>\n",
       "<table border=\"1\" class=\"dataframe\">\n",
       "  <thead>\n",
       "    <tr style=\"text-align: right;\">\n",
       "      <th></th>\n",
       "      <th>1k</th>\n",
       "      <th>10k</th>\n",
       "      <th>50k</th>\n",
       "      <th>Name</th>\n",
       "    </tr>\n",
       "  </thead>\n",
       "  <tbody>\n",
       "    <tr>\n",
       "      <th>30</th>\n",
       "      <td>0.174778</td>\n",
       "      <td>0.130036</td>\n",
       "      <td>0.119320</td>\n",
       "      <td>3DCNN_1000_5_ReLU_15_0.001_4</td>\n",
       "    </tr>\n",
       "    <tr>\n",
       "      <th>32</th>\n",
       "      <td>0.183042</td>\n",
       "      <td>0.127943</td>\n",
       "      <td>0.100636</td>\n",
       "      <td>3DCNN_1000_5_ReLU_15_0.0001_4</td>\n",
       "    </tr>\n",
       "    <tr>\n",
       "      <th>12</th>\n",
       "      <td>0.190516</td>\n",
       "      <td>0.159432</td>\n",
       "      <td>0.104019</td>\n",
       "      <td>3DCNN_1000_3_ReLU_15_0.001_4</td>\n",
       "    </tr>\n",
       "    <tr>\n",
       "      <th>26</th>\n",
       "      <td>0.192882</td>\n",
       "      <td>0.132347</td>\n",
       "      <td>0.102074</td>\n",
       "      <td>3DCNN_1000_5_ReLU_10_0.0001_4</td>\n",
       "    </tr>\n",
       "    <tr>\n",
       "      <th>0</th>\n",
       "      <td>0.194255</td>\n",
       "      <td>0.151957</td>\n",
       "      <td>0.132127</td>\n",
       "      <td>3DCNN_1000_3_ReLU_5_0.001_4</td>\n",
       "    </tr>\n",
       "    <tr>\n",
       "      <th>31</th>\n",
       "      <td>0.196402</td>\n",
       "      <td>0.155524</td>\n",
       "      <td>0.145654</td>\n",
       "      <td>3DCNN_1000_5_Sigmoid_15_0.001_4</td>\n",
       "    </tr>\n",
       "    <tr>\n",
       "      <th>6</th>\n",
       "      <td>0.198852</td>\n",
       "      <td>0.134307</td>\n",
       "      <td>0.108470</td>\n",
       "      <td>3DCNN_1000_3_ReLU_10_0.001_4</td>\n",
       "    </tr>\n",
       "    <tr>\n",
       "      <th>20</th>\n",
       "      <td>0.201340</td>\n",
       "      <td>0.139957</td>\n",
       "      <td>0.113690</td>\n",
       "      <td>3DCNN_1000_5_ReLU_5_0.0001_4</td>\n",
       "    </tr>\n",
       "    <tr>\n",
       "      <th>2</th>\n",
       "      <td>0.204858</td>\n",
       "      <td>0.165577</td>\n",
       "      <td>0.122033</td>\n",
       "      <td>3DCNN_1000_3_ReLU_5_0.0001_4</td>\n",
       "    </tr>\n",
       "    <tr>\n",
       "      <th>22</th>\n",
       "      <td>0.205025</td>\n",
       "      <td>0.154141</td>\n",
       "      <td>0.134251</td>\n",
       "      <td>3DCNN_1000_5_ReLU_5_1e-05_4</td>\n",
       "    </tr>\n",
       "    <tr>\n",
       "      <th>28</th>\n",
       "      <td>0.209898</td>\n",
       "      <td>0.158497</td>\n",
       "      <td>0.111420</td>\n",
       "      <td>3DCNN_1000_5_ReLU_10_1e-05_4</td>\n",
       "    </tr>\n",
       "    <tr>\n",
       "      <th>34</th>\n",
       "      <td>0.213789</td>\n",
       "      <td>0.145988</td>\n",
       "      <td>0.107082</td>\n",
       "      <td>3DCNN_1000_5_ReLU_15_1e-05_4</td>\n",
       "    </tr>\n",
       "    <tr>\n",
       "      <th>18</th>\n",
       "      <td>0.215102</td>\n",
       "      <td>0.174387</td>\n",
       "      <td>0.152949</td>\n",
       "      <td>3DCNN_1000_5_ReLU_5_0.001_4</td>\n",
       "    </tr>\n",
       "    <tr>\n",
       "      <th>10</th>\n",
       "      <td>0.215357</td>\n",
       "      <td>0.173007</td>\n",
       "      <td>0.126843</td>\n",
       "      <td>3DCNN_1000_3_ReLU_10_1e-05_4</td>\n",
       "    </tr>\n",
       "    <tr>\n",
       "      <th>14</th>\n",
       "      <td>0.217637</td>\n",
       "      <td>0.131199</td>\n",
       "      <td>0.102179</td>\n",
       "      <td>3DCNN_1000_3_ReLU_15_0.0001_4</td>\n",
       "    </tr>\n",
       "    <tr>\n",
       "      <th>13</th>\n",
       "      <td>0.218097</td>\n",
       "      <td>0.143461</td>\n",
       "      <td>0.126227</td>\n",
       "      <td>3DCNN_1000_3_Sigmoid_15_0.001_4</td>\n",
       "    </tr>\n",
       "    <tr>\n",
       "      <th>24</th>\n",
       "      <td>0.221301</td>\n",
       "      <td>0.138662</td>\n",
       "      <td>0.126187</td>\n",
       "      <td>3DCNN_1000_5_ReLU_10_0.001_4</td>\n",
       "    </tr>\n",
       "    <tr>\n",
       "      <th>8</th>\n",
       "      <td>0.225905</td>\n",
       "      <td>0.146458</td>\n",
       "      <td>0.110963</td>\n",
       "      <td>3DCNN_1000_3_ReLU_10_0.0001_4</td>\n",
       "    </tr>\n",
       "    <tr>\n",
       "      <th>16</th>\n",
       "      <td>0.228600</td>\n",
       "      <td>0.183420</td>\n",
       "      <td>0.121241</td>\n",
       "      <td>3DCNN_1000_3_ReLU_15_1e-05_4</td>\n",
       "    </tr>\n",
       "    <tr>\n",
       "      <th>33</th>\n",
       "      <td>0.229461</td>\n",
       "      <td>0.157833</td>\n",
       "      <td>0.128396</td>\n",
       "      <td>3DCNN_1000_5_Sigmoid_15_0.0001_4</td>\n",
       "    </tr>\n",
       "    <tr>\n",
       "      <th>15</th>\n",
       "      <td>0.238067</td>\n",
       "      <td>0.169073</td>\n",
       "      <td>0.119474</td>\n",
       "      <td>3DCNN_1000_3_Sigmoid_15_0.0001_4</td>\n",
       "    </tr>\n",
       "    <tr>\n",
       "      <th>27</th>\n",
       "      <td>0.240245</td>\n",
       "      <td>0.263300</td>\n",
       "      <td>0.126613</td>\n",
       "      <td>3DCNN_1000_5_Sigmoid_10_0.0001_4</td>\n",
       "    </tr>\n",
       "    <tr>\n",
       "      <th>9</th>\n",
       "      <td>0.242722</td>\n",
       "      <td>0.182611</td>\n",
       "      <td>0.139794</td>\n",
       "      <td>3DCNN_1000_3_Sigmoid_10_0.0001_4</td>\n",
       "    </tr>\n",
       "    <tr>\n",
       "      <th>19</th>\n",
       "      <td>0.243279</td>\n",
       "      <td>0.159684</td>\n",
       "      <td>0.137103</td>\n",
       "      <td>3DCNN_1000_5_Sigmoid_5_0.001_4</td>\n",
       "    </tr>\n",
       "    <tr>\n",
       "      <th>7</th>\n",
       "      <td>0.246194</td>\n",
       "      <td>0.157554</td>\n",
       "      <td>0.133498</td>\n",
       "      <td>3DCNN_1000_3_Sigmoid_10_0.001_4</td>\n",
       "    </tr>\n",
       "    <tr>\n",
       "      <th>35</th>\n",
       "      <td>0.246710</td>\n",
       "      <td>0.199631</td>\n",
       "      <td>0.134978</td>\n",
       "      <td>3DCNN_1000_5_Sigmoid_15_1e-05_4</td>\n",
       "    </tr>\n",
       "    <tr>\n",
       "      <th>17</th>\n",
       "      <td>0.247012</td>\n",
       "      <td>0.230190</td>\n",
       "      <td>0.171021</td>\n",
       "      <td>3DCNN_1000_3_Sigmoid_15_1e-05_4</td>\n",
       "    </tr>\n",
       "    <tr>\n",
       "      <th>23</th>\n",
       "      <td>0.248107</td>\n",
       "      <td>0.242697</td>\n",
       "      <td>0.173951</td>\n",
       "      <td>3DCNN_1000_5_Sigmoid_5_1e-05_4</td>\n",
       "    </tr>\n",
       "    <tr>\n",
       "      <th>11</th>\n",
       "      <td>0.248362</td>\n",
       "      <td>0.241919</td>\n",
       "      <td>0.171400</td>\n",
       "      <td>3DCNN_1000_3_Sigmoid_10_1e-05_4</td>\n",
       "    </tr>\n",
       "    <tr>\n",
       "      <th>29</th>\n",
       "      <td>0.248744</td>\n",
       "      <td>0.235386</td>\n",
       "      <td>0.144200</td>\n",
       "      <td>3DCNN_1000_5_Sigmoid_10_1e-05_4</td>\n",
       "    </tr>\n",
       "    <tr>\n",
       "      <th>5</th>\n",
       "      <td>0.249048</td>\n",
       "      <td>0.245232</td>\n",
       "      <td>0.208374</td>\n",
       "      <td>3DCNN_1000_3_Sigmoid_5_1e-05_4</td>\n",
       "    </tr>\n",
       "    <tr>\n",
       "      <th>3</th>\n",
       "      <td>0.251386</td>\n",
       "      <td>0.171049</td>\n",
       "      <td>0.156958</td>\n",
       "      <td>3DCNN_1000_3_Sigmoid_5_0.0001_4</td>\n",
       "    </tr>\n",
       "    <tr>\n",
       "      <th>4</th>\n",
       "      <td>0.255668</td>\n",
       "      <td>0.180775</td>\n",
       "      <td>0.134394</td>\n",
       "      <td>3DCNN_1000_3_ReLU_5_1e-05_4</td>\n",
       "    </tr>\n",
       "    <tr>\n",
       "      <th>21</th>\n",
       "      <td>0.258651</td>\n",
       "      <td>0.170460</td>\n",
       "      <td>0.134264</td>\n",
       "      <td>3DCNN_1000_5_Sigmoid_5_0.0001_4</td>\n",
       "    </tr>\n",
       "    <tr>\n",
       "      <th>1</th>\n",
       "      <td>0.279333</td>\n",
       "      <td>0.148409</td>\n",
       "      <td>0.155836</td>\n",
       "      <td>3DCNN_1000_3_Sigmoid_5_0.001_4</td>\n",
       "    </tr>\n",
       "    <tr>\n",
       "      <th>25</th>\n",
       "      <td>0.300910</td>\n",
       "      <td>0.189616</td>\n",
       "      <td>0.120619</td>\n",
       "      <td>3DCNN_1000_5_Sigmoid_10_0.001_4</td>\n",
       "    </tr>\n",
       "  </tbody>\n",
       "</table>\n",
       "</div>"
      ],
      "text/plain": [
       "          1k       10k       50k                              Name\n",
       "30  0.174778  0.130036  0.119320      3DCNN_1000_5_ReLU_15_0.001_4\n",
       "32  0.183042  0.127943  0.100636     3DCNN_1000_5_ReLU_15_0.0001_4\n",
       "12  0.190516  0.159432  0.104019      3DCNN_1000_3_ReLU_15_0.001_4\n",
       "26  0.192882  0.132347  0.102074     3DCNN_1000_5_ReLU_10_0.0001_4\n",
       "0   0.194255  0.151957  0.132127       3DCNN_1000_3_ReLU_5_0.001_4\n",
       "31  0.196402  0.155524  0.145654   3DCNN_1000_5_Sigmoid_15_0.001_4\n",
       "6   0.198852  0.134307  0.108470      3DCNN_1000_3_ReLU_10_0.001_4\n",
       "20  0.201340  0.139957  0.113690      3DCNN_1000_5_ReLU_5_0.0001_4\n",
       "2   0.204858  0.165577  0.122033      3DCNN_1000_3_ReLU_5_0.0001_4\n",
       "22  0.205025  0.154141  0.134251       3DCNN_1000_5_ReLU_5_1e-05_4\n",
       "28  0.209898  0.158497  0.111420      3DCNN_1000_5_ReLU_10_1e-05_4\n",
       "34  0.213789  0.145988  0.107082      3DCNN_1000_5_ReLU_15_1e-05_4\n",
       "18  0.215102  0.174387  0.152949       3DCNN_1000_5_ReLU_5_0.001_4\n",
       "10  0.215357  0.173007  0.126843      3DCNN_1000_3_ReLU_10_1e-05_4\n",
       "14  0.217637  0.131199  0.102179     3DCNN_1000_3_ReLU_15_0.0001_4\n",
       "13  0.218097  0.143461  0.126227   3DCNN_1000_3_Sigmoid_15_0.001_4\n",
       "24  0.221301  0.138662  0.126187      3DCNN_1000_5_ReLU_10_0.001_4\n",
       "8   0.225905  0.146458  0.110963     3DCNN_1000_3_ReLU_10_0.0001_4\n",
       "16  0.228600  0.183420  0.121241      3DCNN_1000_3_ReLU_15_1e-05_4\n",
       "33  0.229461  0.157833  0.128396  3DCNN_1000_5_Sigmoid_15_0.0001_4\n",
       "15  0.238067  0.169073  0.119474  3DCNN_1000_3_Sigmoid_15_0.0001_4\n",
       "27  0.240245  0.263300  0.126613  3DCNN_1000_5_Sigmoid_10_0.0001_4\n",
       "9   0.242722  0.182611  0.139794  3DCNN_1000_3_Sigmoid_10_0.0001_4\n",
       "19  0.243279  0.159684  0.137103    3DCNN_1000_5_Sigmoid_5_0.001_4\n",
       "7   0.246194  0.157554  0.133498   3DCNN_1000_3_Sigmoid_10_0.001_4\n",
       "35  0.246710  0.199631  0.134978   3DCNN_1000_5_Sigmoid_15_1e-05_4\n",
       "17  0.247012  0.230190  0.171021   3DCNN_1000_3_Sigmoid_15_1e-05_4\n",
       "23  0.248107  0.242697  0.173951    3DCNN_1000_5_Sigmoid_5_1e-05_4\n",
       "11  0.248362  0.241919  0.171400   3DCNN_1000_3_Sigmoid_10_1e-05_4\n",
       "29  0.248744  0.235386  0.144200   3DCNN_1000_5_Sigmoid_10_1e-05_4\n",
       "5   0.249048  0.245232  0.208374    3DCNN_1000_3_Sigmoid_5_1e-05_4\n",
       "3   0.251386  0.171049  0.156958   3DCNN_1000_3_Sigmoid_5_0.0001_4\n",
       "4   0.255668  0.180775  0.134394       3DCNN_1000_3_ReLU_5_1e-05_4\n",
       "21  0.258651  0.170460  0.134264   3DCNN_1000_5_Sigmoid_5_0.0001_4\n",
       "1   0.279333  0.148409  0.155836    3DCNN_1000_3_Sigmoid_5_0.001_4\n",
       "25  0.300910  0.189616  0.120619   3DCNN_1000_5_Sigmoid_10_0.001_4"
      ]
     },
     "execution_count": 18,
     "metadata": {},
     "output_type": "execute_result"
    }
   ],
   "source": [
    "comparison"
   ]
  },
  {
   "cell_type": "code",
   "execution_count": 19,
   "id": "35d69773-dade-497b-94ec-296822d4a86a",
   "metadata": {},
   "outputs": [
    {
     "data": {
      "image/png": "[encoded data removed]",
      "text/plain": [
       "<Figure size 1500x500 with 1 Axes>"
      ]
     },
     "metadata": {},
     "output_type": "display_data"
    }
   ],
   "source": [
    "plt.figure(figsize = (15, 5))\n",
    "plt.scatter(range(len(validation_loss_1)), comparison['1k'], color = 'r', label = '1k, 256^3')\n",
    "plt.scatter(range(len(validation_loss_10)), comparison['10k'], color = 'g', label = '10k, 256^3')\n",
    "plt.scatter(range(len(validation_loss_50)), comparison['50k'], color = 'b', label = '50k, 256^3')\n",
    "plt.ylabel('L1 Loss')\n",
    "plt.legend()\n",
    "plt.show()"
   ]
  },
  {
   "cell_type": "code",
   "execution_count": 20,
   "id": "e173931b-f47f-4286-894a-c161cbbe7df3",
   "metadata": {},
   "outputs": [
    {
     "data": {
      "text/html": [
       "<div>\n",
       "<style scoped>\n",
       "    .dataframe tbody tr th:only-of-type {\n",
       "        vertical-align: middle;\n",
       "    }\n",
       "\n",
       "    .dataframe tbody tr th {\n",
       "        vertical-align: top;\n",
       "    }\n",
       "\n",
       "    .dataframe thead th {\n",
       "        text-align: right;\n",
       "    }\n",
       "</style>\n",
       "<table border=\"1\" class=\"dataframe\">\n",
       "  <thead>\n",
       "    <tr style=\"text-align: right;\">\n",
       "      <th></th>\n",
       "      <th>1k</th>\n",
       "      <th>10k</th>\n",
       "      <th>50k</th>\n",
       "      <th>Name</th>\n",
       "    </tr>\n",
       "  </thead>\n",
       "  <tbody>\n",
       "    <tr>\n",
       "      <th>27</th>\n",
       "      <td>0.240245</td>\n",
       "      <td>0.2633</td>\n",
       "      <td>0.126613</td>\n",
       "      <td>3DCNN_1000_5_Sigmoid_10_0.0001_4</td>\n",
       "    </tr>\n",
       "  </tbody>\n",
       "</table>\n",
       "</div>"
      ],
      "text/plain": [
       "          1k     10k       50k                              Name\n",
       "27  0.240245  0.2633  0.126613  3DCNN_1000_5_Sigmoid_10_0.0001_4"
      ]
     },
     "execution_count": 20,
     "metadata": {},
     "output_type": "execute_result"
    }
   ],
   "source": [
    "comparison[comparison['10k'] > comparison['1k']]"
   ]
  },
  {
   "cell_type": "code",
   "execution_count": null,
   "id": "27c59c94-f689-49e0-b0f8-cee3d0b363f6",
   "metadata": {},
   "outputs": [],
   "source": []
  }
 ],
 "metadata": {
  "kernelspec": {
   "display_name": "Python 3 (ipykernel)",
   "language": "python",
   "name": "python3"
  },
  "language_info": {
   "codemirror_mode": {
    "name": "ipython",
    "version": 3
   },
   "file_extension": ".py",
   "mimetype": "text/x-python",
   "name": "python",
   "nbconvert_exporter": "python",
   "pygments_lexer": "ipython3",
   "version": "3.8.12"
  }
 },
 "nbformat": 4,
 "nbformat_minor": 5
}
